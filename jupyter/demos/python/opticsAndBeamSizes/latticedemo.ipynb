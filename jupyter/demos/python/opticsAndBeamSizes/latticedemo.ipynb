{
 "cells": [
  {
   "cell_type": "markdown",
   "id": "destroyed-revelation",
   "metadata": {},
   "source": [
    "# latticedemo example"
   ]
  },
  {
   "cell_type": "markdown",
   "id": "acute-bhutan",
   "metadata": {},
   "source": [
    "LATTICEDEMO self-running tutorial\n",
    "demonstrates \n",
    "1. ELEMENT, family of ELEMENTS, sequence of ELEMENTS \n",
    "2. Lattice representation\n",
    "3. Creating a lattice \n",
    "4. Creating and editing lattice files"
   ]
  },
  {
   "cell_type": "markdown",
   "id": "racial-hostel",
   "metadata": {},
   "source": [
    "Import AT libraries"
   ]
  },
  {
   "cell_type": "code",
   "execution_count": null,
   "id": "double-implement",
   "metadata": {},
   "outputs": [],
   "source": [
    "import numpy as np\n",
    "from at import atpass\n",
    "from at import elements"
   ]
  },
  {
   "cell_type": "markdown",
   "id": "quiet-azerbaijan",
   "metadata": {},
   "source": [
    "An element in Accelerator Toolbox is a Python object\n",
    "\n",
    "The folowing code creates a structure `d1` for a drift space\n",
    "and a structure `qf` for a quadrupole."
   ]
  },
  {
   "cell_type": "code",
   "execution_count": null,
   "id": "front-forward",
   "metadata": {},
   "outputs": [],
   "source": [
    "d1 = elements.Drift('DR01', 3)\n",
    "\n",
    "qf = elements.Quadrupole('QF', 1, 0.2,\n",
    "                         MaxOrder=3,\n",
    "                         NumIntSteps=1,\n",
    "                         PolynomA=np.zeros(4),\n",
    "                         PolynomB=np.array([0, 0.2, 0, 0]),\n",
    "                         R1=np.eye(6),\n",
    "                         R2=np.eye(6),\n",
    "                         T1=np.zeros(6),\n",
    "                         T2=np.zeros(6))"
   ]
  },
  {
   "cell_type": "markdown",
   "id": "written-syria",
   "metadata": {},
   "source": [
    "Use `print` to print the element's info or access attributes using dot notation:"
   ]
  },
  {
   "cell_type": "code",
   "execution_count": null,
   "id": "relevant-donna",
   "metadata": {},
   "outputs": [],
   "source": [
    "display(d1)\n",
    "print('-'*30)\n",
    "print(d1)\n",
    "print('-'*30)\n",
    "print(f'FamName : {d1.FamName}')\n",
    "print(f'Length : {d1.Length}')\n",
    "print(f'PassMethod : {d1.PassMethod}')\n",
    "\n",
    "print('='*30)\n",
    "\n",
    "print(qf)\n",
    "print('-'*30)\n",
    "for attr in qf.REQUIRED_ATTRIBUTES:\n",
    "    print(f'{attr} : {getattr(qf, attr)}')"
   ]
  },
  {
   "cell_type": "markdown",
   "id": "deadly-executive",
   "metadata": {},
   "source": [
    "The next few lines will create another drift structure `d2` from the exiting `d1`\n",
    "and modify the values of fields `FamName` and `Length`"
   ]
  },
  {
   "cell_type": "code",
   "execution_count": null,
   "id": "twenty-antibody",
   "metadata": {},
   "outputs": [],
   "source": [
    "d2 = d1.copy()\n",
    "print(d1)\n",
    "d2.FamName = 'DR02'\n",
    "d2.Length = 2\n",
    "print('-'*30)\n",
    "print(d1)\n",
    "print('-'*30)\n",
    "print(d2)\n"
   ]
  },
  {
   "cell_type": "markdown",
   "id": "antique-rebecca",
   "metadata": {},
   "source": [
    "Note that assignment operator does not create a copy of an element. In the following code `d3` is an alias of `d1`, pointing to the same underlying object."
   ]
  },
  {
   "cell_type": "code",
   "execution_count": null,
   "id": "immediate-boards",
   "metadata": {},
   "outputs": [],
   "source": [
    "d3 = d1\n",
    "print(d1)\n",
    "d3.Length = 1\n",
    "print('-'*30)\n",
    "print(d1)"
   ]
  },
  {
   "cell_type": "markdown",
   "id": "employed-relay",
   "metadata": {},
   "source": [
    "Create another quadrupole element structure `QD` from `QF` and modify\n",
    "the values of fields `K` and `PolynomB` to make it defocusing "
   ]
  },
  {
   "cell_type": "code",
   "execution_count": null,
   "id": "computational-bathroom",
   "metadata": {},
   "outputs": [],
   "source": [
    "qd = qf.deepcopy()\n",
    "qd.FamName = 'QD'\n",
    "qd.K = -0.2\n",
    "print(qd)"
   ]
  },
  {
   "cell_type": "markdown",
   "id": "powerful-tower",
   "metadata": {},
   "source": [
    "Field `PolynomB` is a vector with polynomial field expansion coefficients.\n",
    "The second element (quadrupole coefficient) must be consistent with field `K`. Note that pyAT took care of that."
   ]
  },
  {
   "cell_type": "markdown",
   "id": "vertical-theology",
   "metadata": {},
   "source": [
    "**Rule of thumb** If you're not sure if you should use `copy` or `deepcopy`, just stick with `deepcopy`."
   ]
  },
  {
   "cell_type": "markdown",
   "id": "thick-counter",
   "metadata": {},
   "source": [
    "We have declared four elements:"
   ]
  },
  {
   "cell_type": "code",
   "execution_count": null,
   "id": "raised-printer",
   "metadata": {},
   "outputs": [],
   "source": [
    "display(d1)\n",
    "display(d2)\n",
    "display(qf)\n",
    "display(qd)"
   ]
  },
  {
   "cell_type": "markdown",
   "id": "rough-diana",
   "metadata": {},
   "source": [
    "They are now independent from each other\n",
    "\n",
    "We are ultimately interested in sequences of elements\n",
    "to model storage ring lattices or single-pass beam transport lines.\n",
    "The next section will illustrate building of such sequences\n",
    "\n",
    "Accelerator Toolbox represents sequences of elements as Python iterable object, in this case `numpy.array`.\n",
    "The following commad creates a simple `FODO` cell by copying previously \n",
    "created element structures for drifts and quadrupole magnets to a lattce list `fodocell`:"
   ]
  },
  {
   "cell_type": "code",
   "execution_count": null,
   "id": "strange-tunnel",
   "metadata": {},
   "outputs": [],
   "source": [
    "fodocell = np.array([d1, qf, d2, qd])\n",
    "fodocell"
   ]
  },
  {
   "cell_type": "markdown",
   "id": "hidden-clarity",
   "metadata": {},
   "source": [
    "`len` is useful to find the number of elements in a sequence"
   ]
  },
  {
   "cell_type": "code",
   "execution_count": null,
   "id": "voluntary-father",
   "metadata": {},
   "outputs": [],
   "source": [
    "print(len(fodocell))\n",
    "print(fodocell.size)"
   ]
  },
  {
   "cell_type": "markdown",
   "id": "yellow-transcript",
   "metadata": {},
   "source": [
    "Use `[:]` list syntax to print some elements"
   ]
  },
  {
   "cell_type": "code",
   "execution_count": null,
   "id": "wrong-realtor",
   "metadata": {},
   "outputs": [],
   "source": [
    "display(fodocell[1])\n",
    "print('-'*30)\n",
    "display(fodocell[2:])"
   ]
  },
  {
   "cell_type": "markdown",
   "id": "material-translation",
   "metadata": {},
   "source": [
    "`numpy.array` allows slicing by list"
   ]
  },
  {
   "cell_type": "code",
   "execution_count": null,
   "id": "second-handy",
   "metadata": {},
   "outputs": [],
   "source": [
    "display(fodocell[[0,2]])"
   ]
  },
  {
   "cell_type": "markdown",
   "id": "transparent-controversy",
   "metadata": {},
   "source": [
    "Let's build a lattice `thering` that represents a closed ring \n",
    "with 10 periods of `fodocell`"
   ]
  },
  {
   "cell_type": "code",
   "execution_count": null,
   "id": "golden-portal",
   "metadata": {},
   "outputs": [],
   "source": [
    "from at.lattice import Lattice"
   ]
  },
  {
   "cell_type": "code",
   "execution_count": null,
   "id": "capable-employer",
   "metadata": {},
   "outputs": [],
   "source": [
    "thering = Lattice(fodocell, name='THERING', periodicity=10, energy=1e6)"
   ]
  },
  {
   "cell_type": "markdown",
   "id": "imposed-control",
   "metadata": {},
   "source": [
    "We can visualy examine the ring period"
   ]
  },
  {
   "cell_type": "code",
   "execution_count": null,
   "id": "human-graphic",
   "metadata": {},
   "outputs": [],
   "source": [
    "from at.plot import plot_synopt"
   ]
  },
  {
   "cell_type": "code",
   "execution_count": null,
   "id": "powerful-episode",
   "metadata": {},
   "outputs": [],
   "source": [
    "plot_synopt(thering)"
   ]
  },
  {
   "cell_type": "markdown",
   "id": "affiliated-vampire",
   "metadata": {},
   "source": [
    "Lattice `thering` is a variable in Octave workspace.\n",
    "We can use it in accelerator physics functions and scripts\n",
    "\n",
    "For example: function `FindM44` finds 4-by-4 transverse transfer matrix"
   ]
  },
  {
   "cell_type": "code",
   "execution_count": null,
   "id": "forward-wonder",
   "metadata": {},
   "outputs": [],
   "source": [
    "at.find_m44(thering)"
   ]
  },
  {
   "cell_type": "markdown",
   "id": "contrary-ceiling",
   "metadata": {},
   "source": [
    "Help pages for functions may be viewed in Jupyter Web IDE"
   ]
  },
  {
   "cell_type": "code",
   "execution_count": null,
   "id": "supposed-arrival",
   "metadata": {},
   "outputs": [],
   "source": [
    "?at.find_m44"
   ]
  }
 ],
 "metadata": {
  "kernelspec": {
   "display_name": "Python 3",
   "language": "python",
   "name": "python3"
  },
  "language_info": {
   "codemirror_mode": {
    "name": "ipython",
    "version": 3
   },
   "file_extension": ".py",
   "mimetype": "text/x-python",
   "name": "python",
   "nbconvert_exporter": "python",
   "pygments_lexer": "ipython3",
   "version": "3.9.1+"
  }
 },
 "nbformat": 4,
 "nbformat_minor": 5
}
